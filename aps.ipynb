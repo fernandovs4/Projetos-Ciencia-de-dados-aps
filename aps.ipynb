{
 "cells": [
  {
   "cell_type": "code",
   "execution_count": 32,
   "metadata": {},
   "outputs": [],
   "source": [
    "\n",
    "import random\n",
    "from matplotlib import pyplot as plt\n",
    "import pandas as pd\n",
    "\n",
    "\n",
    "\n"
   ]
  },
  {
   "cell_type": "markdown",
   "metadata": {},
   "source": [
    "### Otan - Foi criado após a segunda Guerra Mundial para poder formar uma aliança militar e econômica, no qual os países integrantes forneceriam ajuda mútua com apoio financeiro pra operações militares. As aberturas providas foram econômica, e apoios militares.\n",
    "\n",
    "### União Europeia - Foi criado com a intenção de unir o continente europeu, a integração se deu por proximidades territoriais e as arbeturas providas foi o livre trânsito de pessoas entre os países do bloco e uma economia mais unificada, uma vez que a maioria dos países do bloco utilizam o euro como moeda, perfazendo a zona do euro."
   ]
  },
  {
   "cell_type": "code",
   "execution_count": 33,
   "metadata": {},
   "outputs": [],
   "source": [
    "df = pd.read_csv(\"mulheres_no_parlamento.csv\" , skiprows= 4)\n",
    "anos = ['2021']\n",
    "df = df.set_index('Country Name')"
   ]
  },
  {
   "cell_type": "markdown",
   "metadata": {},
   "source": [
    "### O critério escohido vai ser em relação a média da porcentagem de mulheres no parlamento de quatro países muito desenvolvidos. Nesses países, tem-se um nível mais alto de mulheres no parlamento, dessa forma, aqueles países que tiverem uma porcentagem maior será considerado, para efeito de cálculo, avançado no quesito do número de mulheres no parlamento."
   ]
  },
  {
   "cell_type": "markdown",
   "metadata": {},
   "source": [
    "#"
   ]
  },
  {
   "cell_type": "code",
   "execution_count": 34,
   "metadata": {},
   "outputs": [
    {
     "name": "stdout",
     "output_type": "stream",
     "text": [
      "38.21986076142405\n"
     ]
    }
   ],
   "source": [
    "\n",
    "df_paises_desenvolvidos = df.loc[['United States', 'United Kingdom', 'Norway', 'Finland']][anos].T.sum(axis=1)\n",
    "df_paises_desenvolvidos.head()\n",
    "media = float(df_paises_desenvolvidos)/4\n",
    "print(media)"
   ]
  },
  {
   "cell_type": "markdown",
   "metadata": {},
   "source": [
    "### Olhando os países da União Europeia e verificando, para cada, se é avançado ou não em relação ao critério escolhido"
   ]
  },
  {
   "cell_type": "code",
   "execution_count": 96,
   "metadata": {},
   "outputs": [
    {
     "name": "stdout",
     "output_type": "stream",
     "text": [
      "Países avançados ou atrasados da UE =  {'Germany': 'atrasado', 'Slovenia': 'atrasado', 'Latvia': 'atrasado', 'Austria': 'avançado', 'Spain': 'avançado', 'Lithuania': 'atrasado', 'Belgium': 'avançado', 'Estonia': 'atrasado', 'Luxembourg': 'atrasado', 'Bulgaria': 'atrasado', 'Finland': 'avançado', 'Malta': 'atrasado', 'Czechia': 'atrasado', 'France': 'avançado', 'Netherlands': 'avançado', 'Cyprus': 'atrasado', 'Greece': 'atrasado', 'Poland': 'atrasado', 'Croatia': 'atrasado', 'Hungary': 'atrasado', 'Portugal': 'avançado', 'Denmark': 'avançado', 'Ireland': 'atrasado', 'Romania': 'atrasado', 'Slovak Republic': 'atrasado', 'Italy': 'atrasado', 'Sweden': 'avançado'}\n"
     ]
    }
   ],
   "source": [
    "\n",
    "\n",
    "\n",
    "paises_da_uniao_europeia = ['Germany','Slovenia','Latvia','Austria','Spain','Lithuania','Belgium','Estonia','Luxembourg','Bulgaria','Finland','Malta','Czechia','France','Netherlands','Cyprus','Greece','Poland','Croatia','Hungary','Portugal','Denmark','Ireland','Romania','Slovak Republic','Italy','Sweden']\n",
    "df_uniao_europia = df.loc[paises_da_uniao_europeia]\n",
    "df_uniao_europia = df_uniao_europia[anos]\n",
    "\n",
    "\n",
    "media_dos_paises_da_uniao_europeia = []\n",
    "\n",
    "for pais in paises_da_uniao_europeia:\n",
    "    m = df_uniao_europia.loc[pais].dropna().mean()\n",
    "    media_dos_paises_da_uniao_europeia.append(m)\n",
    "\n",
    "paises_avancado_ou_atrasado_uniao_europeia = {}\n",
    "for med_pais in zip(media_dos_paises_da_uniao_europeia, paises_da_uniao_europeia):\n",
    "    if med_pais[0] < media:\n",
    "        paises_avancado_ou_atrasado_uniao_europeia[med_pais[1]] = 'atrasado'\n",
    "    else:\n",
    "        paises_avancado_ou_atrasado_uniao_europeia[med_pais[1]] = 'avançado'\n",
    "print('Países avançados ou atrasados da UE = ',paises_avancado_ou_atrasado_uniao_europeia)\n",
    "\n",
    "\n",
    "\n",
    "\n"
   ]
  },
  {
   "cell_type": "markdown",
   "metadata": {},
   "source": []
  },
  {
   "cell_type": "markdown",
   "metadata": {},
   "source": [
    "### Olhando os países da OTAN, para cada, se é avançado ou atrasado em relação ao critério escolhido."
   ]
  },
  {
   "cell_type": "code",
   "execution_count": 95,
   "metadata": {},
   "outputs": [
    {
     "name": "stdout",
     "output_type": "stream",
     "text": [
      "Países avançados ou atrasados da OTAN =  {'Albania': 'atrasado', 'Germany': 'atrasado', 'Belgium': 'avançado', 'Bulgaria': 'atrasado', 'Canada': 'atrasado', 'Croatia': 'atrasado', 'Denmark': 'avançado', 'Slovak Republic': 'atrasado', 'Slovenia': 'atrasado', 'Spain': 'avançado', 'United States': 'atrasado', 'Estonia': 'atrasado', 'France': 'avançado', 'Greece': 'atrasado', 'Netherlands': 'avançado', 'Hungary': 'atrasado', 'Iceland': 'avançado', 'Italy': 'atrasado', 'Latvia': 'atrasado', 'Lithuania': 'atrasado', 'Luxembourg': 'atrasado', 'North Macedonia': 'avançado', 'Montenegro': 'atrasado', 'Norway': 'avançado', 'Poland': 'atrasado', 'Portugal': 'avançado', 'Czechia': 'atrasado', 'Romania': 'atrasado', 'Turkiye': 'atrasado', 'United Kingdom': 'atrasado'}\n"
     ]
    }
   ],
   "source": [
    "paises_otan = ['Albania','Germany','Belgium','Bulgaria','Canada','Croatia','Denmark','Slovak Republic','Slovenia','Spain','United States','Estonia','France','Greece','Netherlands','Hungary','Iceland','Italy','Latvia','Lithuania','Luxembourg','North Macedonia','Montenegro','Norway','Poland','Portugal','Czechia','Romania','Turkiye', 'United Kingdom']\n",
    "df_otan = df.loc[paises_otan]\n",
    "df_otan = df_otan[anos]\n",
    "\n",
    "\n",
    "medias_dos_paises_otan = []\n",
    "\n",
    "for pais in paises_otan:\n",
    "    m = df_otan.loc[pais].dropna().mean()\n",
    "    medias_dos_paises_otan.append(m)\n",
    "\n",
    "paises_avancado_ou_atrasado_otan = {}\n",
    "for med_pais in zip(medias_dos_paises_otan, paises_otan):\n",
    "    if med_pais[0] < media:\n",
    "        paises_avancado_ou_atrasado_otan[med_pais[1]] = 'atrasado'\n",
    "    else:\n",
    "        paises_avancado_ou_atrasado_otan[med_pais[1]] = 'avançado'\n",
    "\n",
    "\n",
    "print('Países avançados ou atrasados da OTAN = ',paises_avancado_ou_atrasado_otan)"
   ]
  },
  {
   "cell_type": "markdown",
   "metadata": {},
   "source": [
    "### Avaliando a probabilidade de um país do bloco da União Europeia ser avançado "
   ]
  },
  {
   "cell_type": "code",
   "execution_count": 37,
   "metadata": {},
   "outputs": [
    {
     "name": "stdout",
     "output_type": "stream",
     "text": [
      "Probabilidade do país ser avançado:  0.336\n"
     ]
    }
   ],
   "source": [
    "n = len(paises_da_uniao_europeia)\n",
    "favoravel = 0\n",
    "total = 0\n",
    "for i in range(1000):\n",
    "    chave = random.sample(paises_da_uniao_europeia, 1)\n",
    "    if paises_avancado_ou_atrasado_uniao_europeia[chave[0]] == 'avançado':\n",
    "        favoravel += 1\n",
    "    total += 1\n",
    "probabilidade_ue = favoravel/total\n",
    "print('Probabilidade do país ser avançado: ', favoravel/total)\n",
    "\n",
    "\n",
    "    "
   ]
  },
  {
   "cell_type": "markdown",
   "metadata": {},
   "source": [
    "### Avaliando a probabilidade de um país do bloco OTAN ser avançado"
   ]
  },
  {
   "cell_type": "code",
   "execution_count": 38,
   "metadata": {},
   "outputs": [
    {
     "name": "stdout",
     "output_type": "stream",
     "text": [
      "Probabilidade do país ser avançado:  0.301\n"
     ]
    }
   ],
   "source": [
    "n = len(paises_otan)\n",
    "favoravel = 0\n",
    "total = 0\n",
    "for i in range(1000):\n",
    "    chave = random.sample(paises_otan, 1)\n",
    "    if paises_avancado_ou_atrasado_otan[chave[0]] == 'avançado':\n",
    "        favoravel += 1\n",
    "    total += 1\n",
    "probabillidade_otan = favoravel/total\n",
    "print('Probabilidade do país ser avançado: ', favoravel/total)"
   ]
  },
  {
   "cell_type": "markdown",
   "metadata": {},
   "source": [
    "### 4 - Probabilidade de ser do bloco da União Europeia dado que é avançado e probabilidade de ser da OTAN dado que é avançado"
   ]
  },
  {
   "cell_type": "code",
   "execution_count": 93,
   "metadata": {},
   "outputs": [
    {
     "name": "stdout",
     "output_type": "stream",
     "text": [
      "Probabilidade de ser do bloco da UE, dado que é avançado: 0.47368421052631576\n",
      "Probabilidade de ser do bloco da OTAN, dado que é avançado: 0.5263157894736842\n"
     ]
    }
   ],
   "source": [
    "numero_total_de_avancados = 0\n",
    "numero_total_de_avancados_da_ue = 0\n",
    "numero_total_de_avancados_da_otan = 0\n",
    "numero_total_de_avancados_ou_atrasados_otan = 0\n",
    "numero_total_de_avancados_ou_atrasados_ue = 0\n",
    "total_de_paises = 0\n",
    "                                                                  \n",
    "\n",
    "for pais_otan in paises_avancado_ou_atrasado_otan.values():\n",
    "    if pais_otan == 'avançado':\n",
    "        numero_total_de_avancados += 1\n",
    "        numero_total_de_avancados_da_otan += 1\n",
    "    numero_total_de_avancados_ou_atrasados_otan += 1\n",
    "    total_de_paises += 1\n",
    "\n",
    "for pais_ue in paises_avancado_ou_atrasado_uniao_europeia.values():\n",
    "    if pais_ue == 'avançado':\n",
    "        numero_total_de_avancados += 1\n",
    "        numero_total_de_avancados_da_ue += 1\n",
    "    numero_total_de_avancados_ou_atrasados_ue += 1\n",
    "    total_de_paises += 1\n",
    "    \n",
    "# Agora aplicaremos o teorema de bayes, ou seja P(bloco/avançado) = P(avançado/bloco)*P()\n",
    "\n",
    "probabilidade_ser_bloco_ue_dado_avancado =  (numero_total_de_avancados_da_ue/numero_total_de_avancados_ou_atrasados_ue)*(numero_total_de_avancados_ou_atrasados_ue/total_de_paises)/(numero_total_de_avancados_da_ue/numero_total_de_avancados_ou_atrasados_ue)\n",
    "probabilidade_ser_bloco_otan_dado_avancado = (numero_total_de_avancados_da_otan/numero_total_de_avancados_ou_atrasados_otan)*(numero_total_de_avancados_ou_atrasados_otan/total_de_paises)/(numero_total_de_avancados_da_otan/numero_total_de_avancados_ou_atrasados_otan)\n",
    "\n",
    "print('Probabilidade de ser do bloco da UE, dado que é avançado:' ,probabilidade_ser_bloco_ue_dado_avancado)\n",
    "print('Probabilidade de ser do bloco da OTAN, dado que é avançado:' ,probabilidade_ser_bloco_otan_dado_avancado)\n",
    "\n",
    "    "
   ]
  },
  {
   "cell_type": "markdown",
   "metadata": {},
   "source": [
    "### 5 - Modelo que classifica um país como pertecente a um bloco dado que ele é avançado ou atrasado."
   ]
  },
  {
   "cell_type": "markdown",
   "metadata": {},
   "source": [
    "##### Vamos tirar a média das porcentagens dos países pertencentes a União Europeia e da OTAN sendo avançados e atrasados"
   ]
  },
  {
   "cell_type": "markdown",
   "metadata": {},
   "source": [
    "##### Da OTAN\n"
   ]
  },
  {
   "cell_type": "code",
   "execution_count": 91,
   "metadata": {},
   "outputs": [
    {
     "name": "stdout",
     "output_type": "stream",
     "text": [
      "Média porcentagem da OTAN dos países avançados:  42.021952120802986\n",
      "Média porcentagem da OTAN dos países atrasados:  27.093377112766014\n"
     ]
    }
   ],
   "source": [
    "lista_otan_avancado = []\n",
    "soma_porcentagem_otan_avancado = 0\n",
    "for pais, condicao in paises_avancado_ou_atrasado_otan.items():\n",
    "    if condicao == 'avançado':\n",
    "        lista_otan_avancado.append(float(df[anos].loc[pais]))\n",
    "        soma_porcentagem_otan_avancado += df[anos].loc[pais]\n",
    "media_porcentagem_otan_avancados = float(soma_porcentagem_otan_avancado/numero_total_de_avancados_da_otan)\n",
    "lista_otan_atrasado = []\n",
    "soma_porcentagem_otan_atrasado = 0\n",
    "for pais, condicao in paises_avancado_ou_atrasado_otan.items():\n",
    "    if condicao == 'atrasado':\n",
    "        lista_otan_atrasado.append(float(df[anos].loc[pais]))\n",
    "        soma_porcentagem_otan_atrasado += df[anos].loc[pais]\n",
    "media_porcentagem_otan_atrasado = float(soma_porcentagem_otan_atrasado/(numero_total_de_avancados_ou_atrasados_otan - numero_total_de_avancados_da_otan))\n",
    "\n",
    "\n",
    "print('Média porcentagem da OTAN dos países avançados: ', media_porcentagem_otan_avancados)\n",
    "print('Média porcentagem da OTAN dos países atrasados: ' ,media_porcentagem_otan_atrasado)\n"
   ]
  },
  {
   "cell_type": "markdown",
   "metadata": {},
   "source": [
    "##### Da União Europeia\n"
   ]
  },
  {
   "cell_type": "code",
   "execution_count": 90,
   "metadata": {},
   "outputs": [
    {
     "name": "stdout",
     "output_type": "stream",
     "text": [
      "Média porcentagem da união europeia dos países atrasados:  24.947671709822657\n",
      "Média porcentagem da união europeia dos países avançados:  41.930000342415106\n"
     ]
    }
   ],
   "source": [
    "lista_ue_avancado  = []\n",
    "soma_porcentagem_ue_avancado = 0\n",
    "for pais, condicao in paises_avancado_ou_atrasado_uniao_europeia.items():\n",
    "    if condicao == 'avançado':\n",
    "        lista_ue_avancado.append(float(df[anos].loc[pais]))\n",
    "        soma_porcentagem_ue_avancado += df[anos].loc[pais]\n",
    "media_porcentagem_ue_avancados = float(soma_porcentagem_ue_avancado/numero_total_de_avancados_da_ue)\n",
    "lista_ue_atrasado  = []\n",
    "soma_porcentagem_ue_atrasado = 0\n",
    "for pais, condicao in paises_avancado_ou_atrasado_uniao_europeia.items():\n",
    "    if condicao == 'atrasado':\n",
    "        lista_ue_atrasado.append(float(df[anos].loc[pais]))\n",
    "        soma_porcentagem_ue_atrasado += df[anos].loc[pais]\n",
    "media_porcentagem_ue_atrasado = float(soma_porcentagem_ue_atrasado/(numero_total_de_avancados_ou_atrasados_ue - numero_total_de_avancados_da_ue))\n",
    "\n",
    "\n",
    "\n",
    "\n",
    "print('Média porcentagem da união europeia dos países atrasados: ', media_porcentagem_ue_atrasado)\n",
    "print('Média porcentagem da união europeia dos países avançados: ', media_porcentagem_ue_avancados)\n"
   ]
  },
  {
   "cell_type": "markdown",
   "metadata": {},
   "source": [
    "### Cálculo do desvio padrão"
   ]
  },
  {
   "cell_type": "code",
   "execution_count": 75,
   "metadata": {},
   "outputs": [
    {
     "name": "stdout",
     "output_type": "stream",
     "text": [
      "0    6.303836\n",
      "dtype: float64 0    2.856691\n",
      "dtype: float64 0    2.917493\n",
      "dtype: float64 0    7.051106\n",
      "dtype: float64\n"
     ]
    }
   ],
   "source": [
    "\n",
    "std_otan_avancado = pd.DataFrame(lista_otan_avancado)\n",
    "std_otan_atrasado = pd.DataFrame(lista_otan_atrasado)\n",
    "std_ue_avancado = pd.DataFrame(lista_ue_avancado)\n",
    "std_ue_atrasado = pd.DataFrame(lista_ue_atrasado)\n",
    "\n",
    "std_otan_avancado = std_otan_avancado.std()\n",
    "std_otan_atrasado = std_otan_atrasado.std()\n",
    "std_ue_avancado = std_ue_avancado.std()\n",
    "std_ue_atrasado = std_ue_atrasado.std()\n",
    "\n",
    "print(std_otan_atrasado.head(), std_otan_avancado.head(), std_ue_avancado.head(), std_ue_atrasado.head())\n",
    "\n"
   ]
  },
  {
   "cell_type": "markdown",
   "metadata": {},
   "source": [
    "### Agora podemos fazer nosso classificador, que vai ser do seguinte modo: O desvio padrão da OTAN é 2.85, logo 42.02 - 2.85 = 39.17, 42.02 + 2.85 = 44.87,desvio padrão da União Europeia é 2.91, logo 41.93 + 2.91 = 44.84, 41.93 - 2.91 = 39.02. Veja que temos valores muito parecidos, podemos fazer o seguinte:\n",
    "##### (39.02 + 44.87 )/2 = 41.945\n",
    "### Assim, se for maior ou igual a 41.945 a porcentagem de mulheres no parlamento, temos que esse país será classificado como da OTAN, se for menor que 41.945, será classificado como da União Europeia.\n",
    "\n",
    "### Pra países atrasados, podemos pensar análogo. Logo, países com porcentagem menor que 25.625 será pertencente á União Europeia e mais que isso, a OTAN.\n"
   ]
  },
  {
   "cell_type": "code",
   "execution_count": 81,
   "metadata": {},
   "outputs": [
    {
     "name": "stdout",
     "output_type": "stream",
     "text": [
      "30\n",
      "acurácia =  0.543859649122807\n"
     ]
    }
   ],
   "source": [
    "def classificador_de_pais(pais):\n",
    "    porcentagem = float(df[anos].loc[pais])\n",
    "    if porcentagem > 38:\n",
    "        if porcentagem >= 41.95:\n",
    "            return 'OTAN'\n",
    "        return 'UE'\n",
    "    else:\n",
    "        if porcentagem < 25.625:\n",
    "            return 'UE'\n",
    "        return 'OTAN'\n",
    "\n",
    "acertos = 0\n",
    "total = 0\n",
    "soma = 0\n",
    "for pais in paises_avancado_ou_atrasado_otan.keys():\n",
    "    if 'OTAN' == classificador_de_pais(pais):\n",
    "        acertos += 1\n",
    "    total += 1\n",
    "for pais in paises_avancado_ou_atrasado_uniao_europeia.keys():\n",
    "    if 'UE' == classificador_de_pais(pais):\n",
    "        acertos += 1\n",
    "    total += 1\n",
    "\n",
    "\n",
    "\n",
    "print('acurácia = ', acertos/total)"
   ]
  },
  {
   "cell_type": "code",
   "execution_count": null,
   "metadata": {},
   "outputs": [],
   "source": []
  },
  {
   "cell_type": "markdown",
   "metadata": {},
   "source": [
    "### Vemos que é um preditor razoável"
   ]
  },
  {
   "cell_type": "code",
   "execution_count": 89,
   "metadata": {},
   "outputs": [
    {
     "data": {
      "image/png": "[encoded data removed]",
      "text/plain": [
       "<Figure size 720x504 with 1 Axes>"
      ]
     },
     "metadata": {
      "needs_background": "light"
     },
     "output_type": "display_data"
    }
   ],
   "source": [
    "import numpy as np\n",
    "import matplotlib.pyplot as plt\n",
    "\n",
    "\n",
    "\n",
    "N = 2\n",
    "\n",
    "otan = (numero_total_de_avancados_da_otan, (numero_total_de_avancados_ou_atrasados_otan - numero_total_de_avancados_da_otan))\n",
    "ue = (numero_total_de_avancados_da_ue, (numero_total_de_avancados_ou_atrasados_ue - numero_total_de_avancados_da_ue))\n",
    "\n",
    "ind = np.arange(N)\n",
    "width = 0.35\n",
    "\n",
    "fig = plt.subplots(figsize =(10, 7))\n",
    "p1 = plt.bar(ind, otan, width)\n",
    "p2 = plt.bar(ind, ue, width, bottom=otan)\n",
    "\n",
    "plt.ylabel('quantidade')\n",
    "plt.title('Quntidade de países avançados e atrasados')\n",
    "plt.xticks(ind, ('avançados', 'atrasados'))\n",
    "plt.yticks(np.arange(0, 60, 5))\n",
    "plt.legend((p1[0], p2[0]), ('otan', 'ue'))\n",
    "\n",
    "plt.show()\n"
   ]
  },
  {
   "cell_type": "markdown",
   "metadata": {},
   "source": [
    "## Feedback anterior\n",
    "\n",
    "### Em relação ao feedback da aps2, agora eu fiz a explicação de todas as etapas da aps, na imagem com o gráfico consegui melhorar a legenda e fiz a divisão de forma mais clara das etapas e dos itens pedidos assim como  deixei as respostas explicitas ao longo do notebook."
   ]
  }
 ],
 "metadata": {
  "kernelspec": {
   "display_name": "Python 3.10.3 64-bit",
   "language": "python",
   "name": "python3"
  },
  "language_info": {
   "codemirror_mode": {
    "name": "ipython",
    "version": 3
   },
   "file_extension": ".py",
   "mimetype": "text/x-python",
   "name": "python",
   "nbconvert_exporter": "python",
   "pygments_lexer": "ipython3",
   "version": "3.10.3"
  },
  "orig_nbformat": 4,
  "vscode": {
   "interpreter": {
    "hash": "8122fb747c42ee65f4cc2f0e808ec0b7d2ff1f36333cd6565fe8a29486c6cc5a"
   }
  }
 },
 "nbformat": 4,
 "nbformat_minor": 2
}
